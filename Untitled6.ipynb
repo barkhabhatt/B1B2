{
 "cells": [
  {
   "cell_type": "code",
   "execution_count": 19,
   "id": "39beda0e-3e54-4778-9e6d-d928c0f6a006",
   "metadata": {},
   "outputs": [
    {
     "name": "stdout",
     "output_type": "stream",
     "text": [
      "{'cumulative_sum': 43, 'average': 8.6, 'min': 2, 'max': 16}\n"
     ]
    }
   ],
   "source": [
    "#write a function that takes one input arguments and written its sum cumulative sum, avg, min, max using for loop\n",
    "\n",
    "def calculate_stats(numbers):\n",
    "    if not numbers:  # Check if the list is empty\n",
    "        return {\n",
    "            'cumulative_sum': 0,\n",
    "            'average': None,\n",
    "            'min': None,\n",
    "            'max': None\n",
    "        }\n",
    "    \n",
    "    cumulative_sum = 0\n",
    "    min_value = float('inf')\n",
    "    max_value = float('-inf')\n",
    "    \n",
    "    for num in numbers:\n",
    "        cumulative_sum += num\n",
    "        if num < min_value:\n",
    "            min_value = num\n",
    "        if num > max_value:\n",
    "            max_value = num\n",
    "    \n",
    "    average = cumulative_sum / len(numbers)\n",
    "    \n",
    "    return {\n",
    "        'cumulative_sum': cumulative_sum,\n",
    "        'average': average,\n",
    "        'min': min_value,\n",
    "        'max': max_value\n",
    "    }\n",
    "numbers = [10, 2, 16, 9, 6]\n",
    "result = calculate_stats(numbers)\n",
    "print(result)"
   ]
  },
  {
   "cell_type": "code",
   "execution_count": 27,
   "id": "f06ca9a8-f358-4fe9-8aae-4886586197cf",
   "metadata": {},
   "outputs": [
    {
     "name": "stdin",
     "output_type": "stream",
     "text": [
      "Enter the number of elements you want to add to the list:  5\n",
      "Enter number 1:  23\n",
      "Enter number 2:  3\n",
      "Enter number 3:  6\n",
      "Enter number 4:  8\n",
      "Enter number 5:  14\n"
     ]
    },
    {
     "name": "stdout",
     "output_type": "stream",
     "text": [
      "List of numbers (Case 1): [23.0, 3.0, 6.0, 8.0, 14.0]\n",
      "Enter numbers one by one. Type 'stop' to finish:\n"
     ]
    },
    {
     "name": "stdin",
     "output_type": "stream",
     "text": [
      " 1\n",
      " 2\n",
      " 4\n",
      " 5\n",
      " 57\n",
      " 77\n",
      " 86\n",
      " 37\n",
      " 2\n",
      " stop\n"
     ]
    },
    {
     "name": "stdout",
     "output_type": "stream",
     "text": [
      "List of numbers (Case 2): [1.0, 2.0, 4.0, 5.0, 57.0, 77.0, 86.0, 37.0, 2.0]\n"
     ]
    }
   ],
   "source": [
    "#Define fuction doc using doc string and show its uses\n",
    "\n",
    "#Case 1 : n is defined by user.\n",
    "#Case 2 : user can enter numbers as per the requirements.\n",
    "\n",
    "# Case 1: User defines 'n'\n",
    "n = int(input(\"Enter the number of elements you want to add to the list: \"))\n",
    "numbers_case1 = []\n",
    "\n",
    "for i in range(n):\n",
    "    number = float(input(f\"Enter number {i + 1}: \"))\n",
    "    numbers_case1.append(number)\n",
    "\n",
    "print(\"List of numbers (Case 1):\", numbers_case1)\n",
    "\n",
    "# Case 2: User enters numbers until they type \"stop\"\n",
    "numbers_case2 = []\n",
    "\n",
    "print(\"Enter numbers one by one. Type 'stop' to finish:\")\n",
    "while True:\n",
    "    user_input = input()\n",
    "    if user_input.lower() == 'stop':\n",
    "        break\n",
    "    numbers_case2.append(float(user_input))\n",
    "\n",
    "print(\"List of numbers (Case 2):\", numbers_case2)"
   ]
  },
  {
   "cell_type": "code",
   "execution_count": 29,
   "id": "310a07aa-cd4e-4154-b339-051b66c46398",
   "metadata": {},
   "outputs": [
    {
     "ename": "SyntaxError",
     "evalue": "invalid syntax (761131207.py, line 1)",
     "output_type": "error",
     "traceback": [
      "\u001b[1;36m  Cell \u001b[1;32mIn[29], line 1\u001b[1;36m\u001b[0m\n\u001b[1;33m    Question 3\u001b[0m\n\u001b[1;37m             ^\u001b[0m\n\u001b[1;31mSyntaxError\u001b[0m\u001b[1;31m:\u001b[0m invalid syntax\n"
     ]
    }
   ],
   "source": [
    "Question 3\n",
    "\n",
    "def display(list1)->None:\n",
    "    total=0\n",
    "    list2=[]\n",
    "    for i in list1:\n",
    "        total=total+i\n",
    "        list2.append(total)\n",
    "        \n",
    "    length=len(list1)\n",
    "    result = {\n",
    "        'sum': total,\n",
    "        'cumulative_sum': list2,\n",
    "        'average': total / length if length > 0 else 0,\n",
    "        'min': min(list1),\n",
    "        'max': max(list1)\n",
    "    }\n",
    "    return result\n",
    "\n",
    "\n",
    "def input_from_user_element():\n",
    "    n=int(input(\"Enter the number :\"))\n",
    "    list1=[]\n",
    "    for i in range(0,n):\n",
    "        user=int(input(\"enter the element {i}\"))\n",
    "        list1.append(user)\n",
    "    val=display(list1)\n",
    "    print(val)\n",
    "    \n",
    "input_from_user_element()"
   ]
  },
  {
   "cell_type": "code",
   "execution_count": null,
   "id": "398b5a18-6404-483f-8a1d-e1079fc6b410",
   "metadata": {},
   "outputs": [],
   "source": []
  },
  {
   "cell_type": "code",
   "execution_count": null,
   "id": "75bb3079-a5ef-4858-9ddc-e1a346135731",
   "metadata": {},
   "outputs": [],
   "source": []
  },
  {
   "cell_type": "code",
   "execution_count": null,
   "id": "4de681ca-60e8-4541-9260-f443e0fffbf0",
   "metadata": {},
   "outputs": [],
   "source": []
  },
  {
   "cell_type": "code",
   "execution_count": null,
   "id": "db43059d-310f-4687-a931-a39ed605c1f0",
   "metadata": {},
   "outputs": [],
   "source": []
  },
  {
   "cell_type": "code",
   "execution_count": null,
   "id": "f00a73c6-ab4d-4327-91fb-f191b7c899f9",
   "metadata": {},
   "outputs": [],
   "source": []
  },
  {
   "cell_type": "code",
   "execution_count": null,
   "id": "ceb05ec8-6845-4609-8c62-2621ac1280f0",
   "metadata": {},
   "outputs": [],
   "source": []
  }
 ],
 "metadata": {
  "kernelspec": {
   "display_name": "Python 3 (ipykernel)",
   "language": "python",
   "name": "python3"
  },
  "language_info": {
   "codemirror_mode": {
    "name": "ipython",
    "version": 3
   },
   "file_extension": ".py",
   "mimetype": "text/x-python",
   "name": "python",
   "nbconvert_exporter": "python",
   "pygments_lexer": "ipython3",
   "version": "3.12.4"
  }
 },
 "nbformat": 4,
 "nbformat_minor": 5
}
