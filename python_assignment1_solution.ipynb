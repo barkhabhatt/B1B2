{
 "cells": [
  {
   "cell_type": "code",
   "execution_count": null,
   "id": "98eb385b-328c-43f6-b657-1aeb00d40e63",
   "metadata": {},
   "outputs": [],
   "source": [
    "#Python Assignment\n",
    "PART 1 INTRODUCTION TO PYTHON\n",
    "QUESTION - 1"
   ]
  },
  {
   "cell_type": "code",
   "execution_count": 3,
   "id": "27d3bb39-b157-4ced-bcf4-79f19c4ace7c",
   "metadata": {},
   "outputs": [
    {
     "name": "stdout",
     "output_type": "stream",
     "text": [
      "Name:Barkha Bhatt\n",
      "Course Name:MCA\n",
      "Python Version:3.12.4 | packaged by Anaconda, Inc. | (main, Jun 18 2024, 15:03:56) [MSC v.1929 64 bit (AMD64)]\n"
     ]
    }
   ],
   "source": [
    "import sys\n",
    "\n",
    "# Define the details\n",
    "name = \"Barkha Bhatt\"\n",
    "coursename = \"MCA\"\n",
    "pythonversion = sys.version\n",
    "\n",
    "# Print the details\n",
    "print(f\"Name:{name}\")\n",
    "print(f\"Course Name:{coursename}\")\n",
    "print(f\"Python Version:{pythonversion}\")"
   ]
  },
  {
   "cell_type": "markdown",
   "id": "6b7ffb20-3249-47bb-a875-00067ea0bcf0",
   "metadata": {},
   "source": [
    "###QUESTION - 2"
   ]
  },
  {
   "cell_type": "code",
   "execution_count": 35,
   "id": "a9f769f1-c535-4f9a-b6f2-63005ac34ef9",
   "metadata": {},
   "outputs": [
    {
     "name": "stdout",
     "output_type": "stream",
     "text": [
      "Hello , Python world!\n"
     ]
    }
   ],
   "source": [
    "x=\"Hello , Python world!\"\n",
    "print(x)"
   ]
  },
  {
   "cell_type": "code",
   "execution_count": null,
   "id": "1416cd86-5577-4e84-9f68-3a412a99378e",
   "metadata": {},
   "outputs": [],
   "source": [
    "PART 2 BASIC PYTHON SYNTAX\n",
    "QUESTION - 1"
   ]
  },
  {
   "cell_type": "code",
   "execution_count": 11,
   "id": "0d13ac66-7ef2-498a-891f-23c9bc8859e0",
   "metadata": {},
   "outputs": [
    {
     "name": "stdout",
     "output_type": "stream",
     "text": [
      "Input your First Name :  BARKHA\n",
      "Input your Last Name :  BHATT\n"
     ]
    },
    {
     "name": "stdout",
     "output_type": "stream",
     "text": [
      "TTAHB AHKRAB\n"
     ]
    }
   ],
   "source": [
    "# taking the input from the user for first name and store it in the 'fname' variable\n",
    "first_name = input(\"Input your First Name : \")\n",
    "\n",
    "#  takinh input for last name and store it in the 'lname' variable\n",
    "last_name = input(\"Input your Last Name : \")\n",
    "\n",
    "# Display a message with the last name followed by the first name\n",
    "full_name =first_name + \" \" + last_name\n",
    "print(full_name[ : :-1])"
   ]
  },
  {
   "cell_type": "code",
   "execution_count": null,
   "id": "4eef435f-4a5b-427e-931a-10e5f9f44ea1",
   "metadata": {},
   "outputs": [],
   "source": [
    "QUESTION - 2"
   ]
  },
  {
   "cell_type": "code",
   "execution_count": 19,
   "id": "153e816f-8cca-4294-bf56-d64e850a544e",
   "metadata": {},
   "outputs": [
    {
     "name": "stdout",
     "output_type": "stream",
     "text": [
      "Data type of num_string after Type Casting: <class 'int'> 15\n",
      "Data type of num_string after Type Casting: <class 'float'> 15.0\n",
      "Data type of num_string after Type Casting: <class 'complex'> (15+0j)\n"
     ]
    }
   ],
   "source": [
    "num_string = \"15\"\n",
    "\n",
    "num_string1 = int(num_string)\n",
    "num_string2=float(num_string)\n",
    "num_string3=complex(num_string)\n",
    "\n",
    "print(\"Data type of num_string after Type Casting:\",type(num_string1) , num_string1)\n",
    "\n",
    "print(\"Data type of num_string after Type Casting:\",type(num_string2) , num_string2)\n",
    "\n",
    "print(\"Data type of num_string after Type Casting:\",type(num_string3), num_string3)\n"
   ]
  },
  {
   "cell_type": "code",
   "execution_count": null,
   "id": "f3d9ca08-4dcf-46fb-bfa2-589f289fdc3f",
   "metadata": {},
   "outputs": [],
   "source": [
    "QUESTION - 3"
   ]
  },
  {
   "cell_type": "code",
   "execution_count": 21,
   "id": "84c2d668-3bc6-45a9-a4cd-8abb74c61628",
   "metadata": {},
   "outputs": [
    {
     "name": "stdout",
     "output_type": "stream",
     "text": [
      "Enter length=  7\n",
      "Enter width=  5\n"
     ]
    },
    {
     "name": "stdout",
     "output_type": "stream",
     "text": [
      "Rectangle area =  35\n"
     ]
    }
   ],
   "source": [
    "#taking input in length variable \n",
    "length=int(input(\"Enter length= \"))\n",
    "\n",
    "#taking input in breadth variable\n",
    "breadth=int(input(\"Enter width= \"))\n",
    "\n",
    "area=length*breadth\n",
    "print(\"Rectangle area = \",area)"
   ]
  },
  {
   "cell_type": "code",
   "execution_count": null,
   "id": "b207f59f-5a21-405c-8e03-a14f2cd21dcb",
   "metadata": {},
   "outputs": [],
   "source": [
    "QUESTION - 4"
   ]
  },
  {
   "cell_type": "code",
   "execution_count": 23,
   "id": "cb2af1ba-6cce-41b4-a4e6-63784cfdd5d4",
   "metadata": {},
   "outputs": [
    {
     "name": "stdout",
     "output_type": "stream",
     "text": [
      "The area of the rectangle is: 35.00\n"
     ]
    }
   ],
   "source": [
    "# Display the result using the print function with two decimal places\n",
    "print(\"The area of the rectangle is: {:.2f}\".format(area))"
   ]
  },
  {
   "cell_type": "code",
   "execution_count": null,
   "id": "94bfab03-da43-4e5c-9215-a818069e25d9",
   "metadata": {},
   "outputs": [],
   "source": [
    "QUESTION - 5"
   ]
  },
  {
   "cell_type": "code",
   "execution_count": 25,
   "id": "30cb4c36-8ba6-4d45-85eb-826e4d996c58",
   "metadata": {},
   "outputs": [
    {
     "name": "stdout",
     "output_type": "stream",
     "text": [
      "Enter the first number:  10\n",
      "Enter the second number:  6\n",
      "Enter the third number:  22\n"
     ]
    },
    {
     "name": "stdout",
     "output_type": "stream",
     "text": [
      "The average of the three numbers is: 12.67\n"
     ]
    }
   ],
   "source": [
    "# Prompt the user to enter three numbers\n",
    "num1 = float(input(\"Enter the first number: \"))\n",
    "num2 = float(input(\"Enter the second number: \"))\n",
    "num3 = float(input(\"Enter the third number: \"))\n",
    "\n",
    "# Calculate the average\n",
    "average = (num1 + num2 + num3) / 3\n",
    "\n",
    "# Display the result using the % formatting method\n",
    "print(\"The average of the three numbers is: %.2f\" % average)"
   ]
  },
  {
   "cell_type": "code",
   "execution_count": null,
   "id": "1157c2b2-02d3-471e-9ad4-e6fe13eca195",
   "metadata": {},
   "outputs": [],
   "source": [
    "PART 3 LANGUAGE COMPONENT"
   ]
  },
  {
   "cell_type": "code",
   "execution_count": null,
   "id": "9cdb576b-171b-4a50-88f3-2c0477aad1bd",
   "metadata": {},
   "outputs": [],
   "source": [
    "QUESTION - 1"
   ]
  },
  {
   "cell_type": "code",
   "execution_count": 27,
   "id": "e1a9bca2-098f-4fad-8e30-172b55bdf6b6",
   "metadata": {},
   "outputs": [
    {
     "name": "stdout",
     "output_type": "stream",
     "text": [
      "Enter a number (or type 'exit' to quit):  30\n"
     ]
    },
    {
     "name": "stdout",
     "output_type": "stream",
     "text": [
      "The number is positive.\n"
     ]
    },
    {
     "name": "stdout",
     "output_type": "stream",
     "text": [
      "Enter a number (or type 'exit' to quit):  -6\n"
     ]
    },
    {
     "name": "stdout",
     "output_type": "stream",
     "text": [
      "The number is negative.\n"
     ]
    },
    {
     "name": "stdout",
     "output_type": "stream",
     "text": [
      "Enter a number (or type 'exit' to quit):  0\n"
     ]
    },
    {
     "name": "stdout",
     "output_type": "stream",
     "text": [
      "The number is zero.\n"
     ]
    },
    {
     "name": "stdout",
     "output_type": "stream",
     "text": [
      "Enter a number (or type 'exit' to quit):  EXIT\n"
     ]
    }
   ],
   "source": [
    "while True:\n",
    "    user_input = input(\"Enter a number (or type 'exit' to quit): \")\n",
    "\n",
    "    # Check if the user wants to exit\n",
    "    if user_input.lower() == 'exit':\n",
    "        break\n",
    "\n",
    "    # Convert input to a number\n",
    "    try:\n",
    "        number = float(user_input)\n",
    "        # Determine if the number is positive, negative, or zero\n",
    "        if number > 0:\n",
    "            print(\"The number is positive.\")\n",
    "        elif number < 0:\n",
    "            print(\"The number is negative.\")\n",
    "        else:\n",
    "            print(\"The number is zero.\")\n",
    "    except ValueError:\n",
    "        print(\"Please enter a valid number or 'exit' to quit.\")\n",
    "    continue  # Prompt for a new number if input is not 'exit'"
   ]
  },
  {
   "cell_type": "code",
   "execution_count": null,
   "id": "c7748216-f018-4cba-ab76-50bb9c8ce8bb",
   "metadata": {},
   "outputs": [],
   "source": [
    "QUESTION - 2"
   ]
  },
  {
   "cell_type": "code",
   "execution_count": 31,
   "id": "d5cad684-698c-4e16-9baf-5b0c32d631ac",
   "metadata": {},
   "outputs": [
    {
     "name": "stdout",
     "output_type": "stream",
     "text": [
      "Enter the first number:  30\n",
      "Enter the second number:  3\n"
     ]
    },
    {
     "name": "stdout",
     "output_type": "stream",
     "text": [
      "One number is even and the other is odd.\n"
     ]
    }
   ],
   "source": [
    "# Input two numbers from the user\n",
    "first_number = int(input(\"Enter the first number: \"))\n",
    "second_number = int(input(\"Enter the second number: \"))\n",
    "\n",
    "# Check whether both numbers are even, odd, or one of each using relational and logical operator\n",
    "if first_number % 2 == 0 and second_number % 2 == 0:\n",
    "    print(\"Both numbers are even.\")\n",
    "elif first_number % 2 != 0 and second_number % 2 != 0:\n",
    "    print(\"Both numbers are odd.\")\n",
    "else:\n",
    "    print(\"One number is even and the other is odd.\")"
   ]
  },
  {
   "cell_type": "code",
   "execution_count": null,
   "id": "022fa5a4-346e-40f2-967d-35f82a1a5aef",
   "metadata": {},
   "outputs": [],
   "source": [
    "QUESTION - 3"
   ]
  },
  {
   "cell_type": "code",
   "execution_count": 33,
   "id": "9e2103ab-5692-405a-baff-775105381589",
   "metadata": {},
   "outputs": [
    {
     "name": "stdout",
     "output_type": "stream",
     "text": [
      "Enter an integer:  17\n"
     ]
    },
    {
     "name": "stdout",
     "output_type": "stream",
     "text": [
      "Binary: 10001\n",
      "Octal: 10\n",
      "Hexadecimal: 11\n"
     ]
    }
   ],
   "source": [
    "# Function to convert a number to binary, octal, and hexadecimal using bitwise operations\n",
    "def convert_number(num):\n",
    "    # Binary conversion\n",
    "    binary = ''\n",
    "    for i in range(num.bit_length(), -1, -1):\n",
    "        binary += '1' if (num >> i) & 1 else '0'\n",
    "    binary = binary.lstrip('0') or '0'  # Remove leading zeros\n",
    "\n",
    "    # Octal conversion\n",
    "    octal = ''\n",
    "    for i in range(num.bit_length() - 1, -1, -3):  # Group by 3 bits for octal\n",
    "        octal_digit = (num >> i) & 7  # Extract 3 bits at a time\n",
    "        octal += str(octal_digit)\n",
    "    octal = octal.lstrip('0') or '0'  # Remove leading zeros\n",
    "\n",
    "    # Hexadecimal conversion\n",
    "    hex_digits = \"0123456789ABCDEF\"\n",
    "    hexadecimal = ''\n",
    "    for i in range(num.bit_length() - 1, -1, -4):  # Group by 4 bits for hexadecimal\n",
    "        hex_digit = (num >> i) & 15  # Extract 4 bits at a time\n",
    "        hexadecimal += hex_digits[hex_digit]\n",
    "    hexadecimal = hexadecimal.lstrip('0') or '0'  # Remove leading zeros\n",
    "\n",
    "    print(f\"Binary: {binary}\")\n",
    "    print(f\"Octal: {octal}\")\n",
    "    print(f\"Hexadecimal: {hexadecimal}\")\n",
    "\n",
    "# Take integer input from the user\n",
    "number = int(input(\"Enter an integer: \"))\n",
    "convert_number(number)"
   ]
  },
  {
   "cell_type": "code",
   "execution_count": null,
   "id": "a0a51fec-9255-4857-b560-a192de12bb8a",
   "metadata": {},
   "outputs": [],
   "source": []
  }
 ],
 "metadata": {
  "kernelspec": {
   "display_name": "Python 3 (ipykernel)",
   "language": "python",
   "name": "python3"
  },
  "language_info": {
   "codemirror_mode": {
    "name": "ipython",
    "version": 3
   },
   "file_extension": ".py",
   "mimetype": "text/x-python",
   "name": "python",
   "nbconvert_exporter": "python",
   "pygments_lexer": "ipython3",
   "version": "3.12.4"
  }
 },
 "nbformat": 4,
 "nbformat_minor": 5
}
